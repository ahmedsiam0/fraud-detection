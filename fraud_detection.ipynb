{
  "cells": [
    {
      "cell_type": "markdown",
      "metadata": {
        "colab_type": "text",
        "id": "view-in-github"
      },
      "source": [
        "<a href=\"https://colab.research.google.com/github/ahmedsiam0/fraud-detection/blob/main/fraud_detection.ipynb\" target=\"_parent\"><img src=\"https://colab.research.google.com/assets/colab-badge.svg\" alt=\"Open In Colab\"/></a>"
      ]
    },
    {
      "cell_type": "code",
      "execution_count": 1,
      "metadata": {
        "id": "V1RSYkL0uoWB"
      },
      "outputs": [],
      "source": [
        "import pandas as pd\n",
        "import numpy as np\n",
        "import matplotlib.pyplot as plt\n",
        "import seaborn as sns"
      ]
    },
    {
      "cell_type": "code",
      "execution_count": 2,
      "metadata": {
        "id": "IVHJXj4KIUSv"
      },
      "outputs": [],
      "source": [
        "df=pd.read_csv(\"./content/fraudTrain.csv\")"
      ]
    },
    {
      "cell_type": "markdown",
      "metadata": {
        "id": "IBH_rYsRtsMX"
      },
      "source": [
        "# **Take a Look**"
      ]
    },
    {
      "cell_type": "code",
      "execution_count": 3,
      "metadata": {
        "colab": {
          "base_uri": "https://localhost:8080/",
          "height": 363
        },
        "id": "49gKEvY2Ju8V",
        "outputId": "40eb9e79-9b11-4832-d78f-dd548c145f88"
      },
      "outputs": [
        {
          "data": {
            "text/html": [
              "<div>\n",
              "<style scoped>\n",
              "    .dataframe tbody tr th:only-of-type {\n",
              "        vertical-align: middle;\n",
              "    }\n",
              "\n",
              "    .dataframe tbody tr th {\n",
              "        vertical-align: top;\n",
              "    }\n",
              "\n",
              "    .dataframe thead th {\n",
              "        text-align: right;\n",
              "    }\n",
              "</style>\n",
              "<table border=\"1\" class=\"dataframe\">\n",
              "  <thead>\n",
              "    <tr style=\"text-align: right;\">\n",
              "      <th></th>\n",
              "      <th>ID</th>\n",
              "      <th>Time</th>\n",
              "      <th>Card Number</th>\n",
              "      <th>merchant</th>\n",
              "      <th>category</th>\n",
              "      <th>Amount</th>\n",
              "      <th>firstName</th>\n",
              "      <th>lastName</th>\n",
              "      <th>trans_num</th>\n",
              "      <th>is_fraud</th>\n",
              "    </tr>\n",
              "  </thead>\n",
              "  <tbody>\n",
              "    <tr>\n",
              "      <th>0</th>\n",
              "      <td>0</td>\n",
              "      <td>1/1/2019 0:00</td>\n",
              "      <td>2.700000e+15</td>\n",
              "      <td>fraud_Rippin, Kub and Mann</td>\n",
              "      <td>misc_net</td>\n",
              "      <td>4.97</td>\n",
              "      <td>Jennifer</td>\n",
              "      <td>Banks</td>\n",
              "      <td>0b242abb623afc578575680df30655b9</td>\n",
              "      <td>0.0</td>\n",
              "    </tr>\n",
              "    <tr>\n",
              "      <th>1</th>\n",
              "      <td>1</td>\n",
              "      <td>1/1/2019 0:00</td>\n",
              "      <td>6.300000e+11</td>\n",
              "      <td>fraud_Heller, Gutmann and Zieme</td>\n",
              "      <td>grocery_pos</td>\n",
              "      <td>107.23</td>\n",
              "      <td>Stephanie</td>\n",
              "      <td>Gill</td>\n",
              "      <td>1f76529f8574734946361c461b024d99</td>\n",
              "      <td>0.0</td>\n",
              "    </tr>\n",
              "    <tr>\n",
              "      <th>2</th>\n",
              "      <td>2</td>\n",
              "      <td>1/1/2019 0:00</td>\n",
              "      <td>3.890000e+13</td>\n",
              "      <td>fraud_Lind-Buckridge</td>\n",
              "      <td>entertainment</td>\n",
              "      <td>220.11</td>\n",
              "      <td>Edward</td>\n",
              "      <td>Sanchez</td>\n",
              "      <td>a1a22d70485983eac12b5b88dad1cf95</td>\n",
              "      <td>0.0</td>\n",
              "    </tr>\n",
              "    <tr>\n",
              "      <th>3</th>\n",
              "      <td>3</td>\n",
              "      <td>1/1/2019 0:01</td>\n",
              "      <td>3.530000e+15</td>\n",
              "      <td>fraud_Kutch, Hermiston and Farrell</td>\n",
              "      <td>gas_transport</td>\n",
              "      <td>45.00</td>\n",
              "      <td>Jeremy</td>\n",
              "      <td>White</td>\n",
              "      <td>6b849c168bdad6f867558c3793159a81</td>\n",
              "      <td>0.0</td>\n",
              "    </tr>\n",
              "    <tr>\n",
              "      <th>4</th>\n",
              "      <td>4</td>\n",
              "      <td>1/1/2019 0:03</td>\n",
              "      <td>3.760000e+14</td>\n",
              "      <td>fraud_Keeling-Crist</td>\n",
              "      <td>misc_pos</td>\n",
              "      <td>41.96</td>\n",
              "      <td>Tyler</td>\n",
              "      <td>Garcia</td>\n",
              "      <td>a41d7549acf90789359a9aa5346dcb46</td>\n",
              "      <td>0.0</td>\n",
              "    </tr>\n",
              "    <tr>\n",
              "      <th>5</th>\n",
              "      <td>5</td>\n",
              "      <td>1/1/2019 0:04</td>\n",
              "      <td>4.770000e+15</td>\n",
              "      <td>fraud_Stroman, Hudson and Erdman</td>\n",
              "      <td>gas_transport</td>\n",
              "      <td>94.63</td>\n",
              "      <td>Jennifer</td>\n",
              "      <td>Conner</td>\n",
              "      <td>189a841a0a8ba03058526bcfe566aab5</td>\n",
              "      <td>0.0</td>\n",
              "    </tr>\n",
              "    <tr>\n",
              "      <th>6</th>\n",
              "      <td>6</td>\n",
              "      <td>1/1/2019 0:04</td>\n",
              "      <td>3.010000e+13</td>\n",
              "      <td>fraud_Rowe-Vandervort</td>\n",
              "      <td>grocery_net</td>\n",
              "      <td>44.54</td>\n",
              "      <td>Kelsey</td>\n",
              "      <td>Richards</td>\n",
              "      <td>83ec1cc84142af6e2acf10c44949e720</td>\n",
              "      <td>0.0</td>\n",
              "    </tr>\n",
              "    <tr>\n",
              "      <th>7</th>\n",
              "      <td>7</td>\n",
              "      <td>1/1/2019 0:05</td>\n",
              "      <td>6.010000e+15</td>\n",
              "      <td>fraud_Corwin-Collins</td>\n",
              "      <td>gas_transport</td>\n",
              "      <td>71.65</td>\n",
              "      <td>Steven</td>\n",
              "      <td>Williams</td>\n",
              "      <td>6d294ed2cc447d2c71c7171a3d54967c</td>\n",
              "      <td>0.0</td>\n",
              "    </tr>\n",
              "    <tr>\n",
              "      <th>8</th>\n",
              "      <td>8</td>\n",
              "      <td>1/1/2019 0:05</td>\n",
              "      <td>4.920000e+15</td>\n",
              "      <td>fraud_Herzog Ltd</td>\n",
              "      <td>misc_pos</td>\n",
              "      <td>4.27</td>\n",
              "      <td>Heather</td>\n",
              "      <td>Chase</td>\n",
              "      <td>fc28024ce480f8ef21a32d64c93a29f5</td>\n",
              "      <td>0.0</td>\n",
              "    </tr>\n",
              "    <tr>\n",
              "      <th>9</th>\n",
              "      <td>9</td>\n",
              "      <td>1/1/2019 0:06</td>\n",
              "      <td>2.720000e+15</td>\n",
              "      <td>fraud_Schoen, Kuphal and Nitzsche</td>\n",
              "      <td>grocery_pos</td>\n",
              "      <td>198.39</td>\n",
              "      <td>Melissa</td>\n",
              "      <td>Aguilar</td>\n",
              "      <td>3b9014ea8fb80bd65de0b1463b00b00e</td>\n",
              "      <td>0.0</td>\n",
              "    </tr>\n",
              "  </tbody>\n",
              "</table>\n",
              "</div>"
            ],
            "text/plain": [
              "   ID           Time   Card Number                            merchant  \\\n",
              "0   0  1/1/2019 0:00  2.700000e+15          fraud_Rippin, Kub and Mann   \n",
              "1   1  1/1/2019 0:00  6.300000e+11     fraud_Heller, Gutmann and Zieme   \n",
              "2   2  1/1/2019 0:00  3.890000e+13                fraud_Lind-Buckridge   \n",
              "3   3  1/1/2019 0:01  3.530000e+15  fraud_Kutch, Hermiston and Farrell   \n",
              "4   4  1/1/2019 0:03  3.760000e+14                 fraud_Keeling-Crist   \n",
              "5   5  1/1/2019 0:04  4.770000e+15    fraud_Stroman, Hudson and Erdman   \n",
              "6   6  1/1/2019 0:04  3.010000e+13               fraud_Rowe-Vandervort   \n",
              "7   7  1/1/2019 0:05  6.010000e+15                fraud_Corwin-Collins   \n",
              "8   8  1/1/2019 0:05  4.920000e+15                    fraud_Herzog Ltd   \n",
              "9   9  1/1/2019 0:06  2.720000e+15   fraud_Schoen, Kuphal and Nitzsche   \n",
              "\n",
              "        category  Amount  firstName  lastName  \\\n",
              "0       misc_net    4.97   Jennifer     Banks   \n",
              "1    grocery_pos  107.23  Stephanie      Gill   \n",
              "2  entertainment  220.11     Edward   Sanchez   \n",
              "3  gas_transport   45.00     Jeremy     White   \n",
              "4       misc_pos   41.96      Tyler    Garcia   \n",
              "5  gas_transport   94.63   Jennifer    Conner   \n",
              "6    grocery_net   44.54     Kelsey  Richards   \n",
              "7  gas_transport   71.65     Steven  Williams   \n",
              "8       misc_pos    4.27    Heather     Chase   \n",
              "9    grocery_pos  198.39    Melissa   Aguilar   \n",
              "\n",
              "                          trans_num  is_fraud  \n",
              "0  0b242abb623afc578575680df30655b9       0.0  \n",
              "1  1f76529f8574734946361c461b024d99       0.0  \n",
              "2  a1a22d70485983eac12b5b88dad1cf95       0.0  \n",
              "3  6b849c168bdad6f867558c3793159a81       0.0  \n",
              "4  a41d7549acf90789359a9aa5346dcb46       0.0  \n",
              "5  189a841a0a8ba03058526bcfe566aab5       0.0  \n",
              "6  83ec1cc84142af6e2acf10c44949e720       0.0  \n",
              "7  6d294ed2cc447d2c71c7171a3d54967c       0.0  \n",
              "8  fc28024ce480f8ef21a32d64c93a29f5       0.0  \n",
              "9  3b9014ea8fb80bd65de0b1463b00b00e       0.0  "
            ]
          },
          "execution_count": 3,
          "metadata": {},
          "output_type": "execute_result"
        }
      ],
      "source": [
        "df.head(10)"
      ]
    },
    {
      "cell_type": "code",
      "execution_count": 4,
      "metadata": {
        "colab": {
          "base_uri": "https://localhost:8080/",
          "height": 424
        },
        "id": "dJLFbv2kJ9UB",
        "outputId": "d55d657d-a586-4a4a-83b6-156e9de1f186"
      },
      "outputs": [
        {
          "data": {
            "text/html": [
              "<div>\n",
              "<style scoped>\n",
              "    .dataframe tbody tr th:only-of-type {\n",
              "        vertical-align: middle;\n",
              "    }\n",
              "\n",
              "    .dataframe tbody tr th {\n",
              "        vertical-align: top;\n",
              "    }\n",
              "\n",
              "    .dataframe thead th {\n",
              "        text-align: right;\n",
              "    }\n",
              "</style>\n",
              "<table border=\"1\" class=\"dataframe\">\n",
              "  <thead>\n",
              "    <tr style=\"text-align: right;\">\n",
              "      <th></th>\n",
              "      <th>ID</th>\n",
              "      <th>Time</th>\n",
              "      <th>Card Number</th>\n",
              "      <th>merchant</th>\n",
              "      <th>category</th>\n",
              "      <th>Amount</th>\n",
              "      <th>firstName</th>\n",
              "      <th>lastName</th>\n",
              "      <th>trans_num</th>\n",
              "      <th>is_fraud</th>\n",
              "    </tr>\n",
              "  </thead>\n",
              "  <tbody>\n",
              "    <tr>\n",
              "      <th>2449</th>\n",
              "      <td>2449</td>\n",
              "      <td>1/2/2019 1:06</td>\n",
              "      <td>4.610000e+12</td>\n",
              "      <td>fraud_Rutherford-Mertz</td>\n",
              "      <td>grocery_pos</td>\n",
              "      <td>281.06</td>\n",
              "      <td>Jason</td>\n",
              "      <td>Murphy</td>\n",
              "      <td>e8a81877ae9a0a7f883e15cb39dc4022</td>\n",
              "      <td>1.0</td>\n",
              "    </tr>\n",
              "    <tr>\n",
              "      <th>2472</th>\n",
              "      <td>2472</td>\n",
              "      <td>1/2/2019 1:47</td>\n",
              "      <td>3.400000e+14</td>\n",
              "      <td>fraud_Jenkins, Hauck and Friesen</td>\n",
              "      <td>gas_transport</td>\n",
              "      <td>11.52</td>\n",
              "      <td>Misty</td>\n",
              "      <td>Hart</td>\n",
              "      <td>bc7d41c41103877b03232f03f1f8d3f5</td>\n",
              "      <td>1.0</td>\n",
              "    </tr>\n",
              "    <tr>\n",
              "      <th>2523</th>\n",
              "      <td>2523</td>\n",
              "      <td>1/2/2019 3:05</td>\n",
              "      <td>3.400000e+14</td>\n",
              "      <td>fraud_Goodwin-Nitzsche</td>\n",
              "      <td>grocery_pos</td>\n",
              "      <td>276.31</td>\n",
              "      <td>Misty</td>\n",
              "      <td>Hart</td>\n",
              "      <td>b98f12f4168391b2203238813df5aa8c</td>\n",
              "      <td>1.0</td>\n",
              "    </tr>\n",
              "    <tr>\n",
              "      <th>2546</th>\n",
              "      <td>2546</td>\n",
              "      <td>1/2/2019 3:38</td>\n",
              "      <td>4.610000e+12</td>\n",
              "      <td>fraud_Erdman-Kertzmann</td>\n",
              "      <td>gas_transport</td>\n",
              "      <td>7.03</td>\n",
              "      <td>Jason</td>\n",
              "      <td>Murphy</td>\n",
              "      <td>397894a5c4c02e3c61c784001f0f14e4</td>\n",
              "      <td>1.0</td>\n",
              "    </tr>\n",
              "    <tr>\n",
              "      <th>2553</th>\n",
              "      <td>2553</td>\n",
              "      <td>1/2/2019 3:55</td>\n",
              "      <td>3.400000e+14</td>\n",
              "      <td>fraud_Koepp-Parker</td>\n",
              "      <td>grocery_pos</td>\n",
              "      <td>275.73</td>\n",
              "      <td>Misty</td>\n",
              "      <td>Hart</td>\n",
              "      <td>7863235a750d73a244c07f1fb7f0185a</td>\n",
              "      <td>1.0</td>\n",
              "    </tr>\n",
              "    <tr>\n",
              "      <th>...</th>\n",
              "      <td>...</td>\n",
              "      <td>...</td>\n",
              "      <td>...</td>\n",
              "      <td>...</td>\n",
              "      <td>...</td>\n",
              "      <td>...</td>\n",
              "      <td>...</td>\n",
              "      <td>...</td>\n",
              "      <td>...</td>\n",
              "      <td>...</td>\n",
              "    </tr>\n",
              "    <tr>\n",
              "      <th>1000885</th>\n",
              "      <td>1000885</td>\n",
              "      <td>2/15/2020 1:11</td>\n",
              "      <td>3.020000e+13</td>\n",
              "      <td>fraud_Schumm, Bauch and Ondricka</td>\n",
              "      <td>grocery_pos</td>\n",
              "      <td>267.75</td>\n",
              "      <td>James</td>\n",
              "      <td>Baldwin</td>\n",
              "      <td>c40834346b22cab40b88999b6f7600db</td>\n",
              "      <td>1.0</td>\n",
              "    </tr>\n",
              "    <tr>\n",
              "      <th>1000937</th>\n",
              "      <td>1000937</td>\n",
              "      <td>2/15/2020 1:54</td>\n",
              "      <td>3.020000e+13</td>\n",
              "      <td>fraud_Stracke-Lemke</td>\n",
              "      <td>grocery_pos</td>\n",
              "      <td>283.60</td>\n",
              "      <td>James</td>\n",
              "      <td>Baldwin</td>\n",
              "      <td>351543183b955128d8209b0d0e9f1cc3</td>\n",
              "      <td>1.0</td>\n",
              "    </tr>\n",
              "    <tr>\n",
              "      <th>1000983</th>\n",
              "      <td>1000983</td>\n",
              "      <td>2/15/2020 2:30</td>\n",
              "      <td>3.020000e+13</td>\n",
              "      <td>fraud_Durgan-Auer</td>\n",
              "      <td>misc_net</td>\n",
              "      <td>750.98</td>\n",
              "      <td>James</td>\n",
              "      <td>Baldwin</td>\n",
              "      <td>e21fba3f053af7ea0bd31dfed1ddf2e4</td>\n",
              "      <td>1.0</td>\n",
              "    </tr>\n",
              "    <tr>\n",
              "      <th>1000984</th>\n",
              "      <td>1000984</td>\n",
              "      <td>2/15/2020 2:32</td>\n",
              "      <td>2.130000e+14</td>\n",
              "      <td>fraud_Bartoletti-Wunsch</td>\n",
              "      <td>gas_transport</td>\n",
              "      <td>19.06</td>\n",
              "      <td>Joanne</td>\n",
              "      <td>Padilla</td>\n",
              "      <td>3aee71b58b68fbc5341fb7daad0e83a7</td>\n",
              "      <td>1.0</td>\n",
              "    </tr>\n",
              "    <tr>\n",
              "      <th>1001312</th>\n",
              "      <td>1001312</td>\n",
              "      <td>2/15/2020 7:29</td>\n",
              "      <td>3.020000e+13</td>\n",
              "      <td>fraud_Heidenreich PLC</td>\n",
              "      <td>grocery_pos</td>\n",
              "      <td>305.45</td>\n",
              "      <td>James</td>\n",
              "      <td>Baldwin</td>\n",
              "      <td>f0b0e0b74965ca10009deb96ed8a4144</td>\n",
              "      <td>1.0</td>\n",
              "    </tr>\n",
              "  </tbody>\n",
              "</table>\n",
              "<p>5713 rows × 10 columns</p>\n",
              "</div>"
            ],
            "text/plain": [
              "              ID            Time   Card Number  \\\n",
              "2449        2449   1/2/2019 1:06  4.610000e+12   \n",
              "2472        2472   1/2/2019 1:47  3.400000e+14   \n",
              "2523        2523   1/2/2019 3:05  3.400000e+14   \n",
              "2546        2546   1/2/2019 3:38  4.610000e+12   \n",
              "2553        2553   1/2/2019 3:55  3.400000e+14   \n",
              "...          ...             ...           ...   \n",
              "1000885  1000885  2/15/2020 1:11  3.020000e+13   \n",
              "1000937  1000937  2/15/2020 1:54  3.020000e+13   \n",
              "1000983  1000983  2/15/2020 2:30  3.020000e+13   \n",
              "1000984  1000984  2/15/2020 2:32  2.130000e+14   \n",
              "1001312  1001312  2/15/2020 7:29  3.020000e+13   \n",
              "\n",
              "                                 merchant       category  Amount firstName  \\\n",
              "2449               fraud_Rutherford-Mertz    grocery_pos  281.06     Jason   \n",
              "2472     fraud_Jenkins, Hauck and Friesen  gas_transport   11.52     Misty   \n",
              "2523               fraud_Goodwin-Nitzsche    grocery_pos  276.31     Misty   \n",
              "2546               fraud_Erdman-Kertzmann  gas_transport    7.03     Jason   \n",
              "2553                   fraud_Koepp-Parker    grocery_pos  275.73     Misty   \n",
              "...                                   ...            ...     ...       ...   \n",
              "1000885  fraud_Schumm, Bauch and Ondricka    grocery_pos  267.75     James   \n",
              "1000937               fraud_Stracke-Lemke    grocery_pos  283.60     James   \n",
              "1000983                 fraud_Durgan-Auer       misc_net  750.98     James   \n",
              "1000984           fraud_Bartoletti-Wunsch  gas_transport   19.06    Joanne   \n",
              "1001312             fraud_Heidenreich PLC    grocery_pos  305.45     James   \n",
              "\n",
              "        lastName                         trans_num  is_fraud  \n",
              "2449      Murphy  e8a81877ae9a0a7f883e15cb39dc4022       1.0  \n",
              "2472        Hart  bc7d41c41103877b03232f03f1f8d3f5       1.0  \n",
              "2523        Hart  b98f12f4168391b2203238813df5aa8c       1.0  \n",
              "2546      Murphy  397894a5c4c02e3c61c784001f0f14e4       1.0  \n",
              "2553        Hart  7863235a750d73a244c07f1fb7f0185a       1.0  \n",
              "...          ...                               ...       ...  \n",
              "1000885  Baldwin  c40834346b22cab40b88999b6f7600db       1.0  \n",
              "1000937  Baldwin  351543183b955128d8209b0d0e9f1cc3       1.0  \n",
              "1000983  Baldwin  e21fba3f053af7ea0bd31dfed1ddf2e4       1.0  \n",
              "1000984  Padilla  3aee71b58b68fbc5341fb7daad0e83a7       1.0  \n",
              "1001312  Baldwin  f0b0e0b74965ca10009deb96ed8a4144       1.0  \n",
              "\n",
              "[5713 rows x 10 columns]"
            ]
          },
          "execution_count": 4,
          "metadata": {},
          "output_type": "execute_result"
        }
      ],
      "source": [
        "df[df[\"is_fraud\"] == 1]"
      ]
    },
    {
      "cell_type": "code",
      "execution_count": 5,
      "metadata": {
        "colab": {
          "base_uri": "https://localhost:8080/",
          "height": 300
        },
        "id": "7bIifsFUK9Hl",
        "outputId": "b50bba5e-f572-429a-aa5e-ec2d58fc2fb9"
      },
      "outputs": [
        {
          "data": {
            "text/html": [
              "<div>\n",
              "<style scoped>\n",
              "    .dataframe tbody tr th:only-of-type {\n",
              "        vertical-align: middle;\n",
              "    }\n",
              "\n",
              "    .dataframe tbody tr th {\n",
              "        vertical-align: top;\n",
              "    }\n",
              "\n",
              "    .dataframe thead th {\n",
              "        text-align: right;\n",
              "    }\n",
              "</style>\n",
              "<table border=\"1\" class=\"dataframe\">\n",
              "  <thead>\n",
              "    <tr style=\"text-align: right;\">\n",
              "      <th></th>\n",
              "      <th>ID</th>\n",
              "      <th>Card Number</th>\n",
              "      <th>Amount</th>\n",
              "      <th>is_fraud</th>\n",
              "    </tr>\n",
              "  </thead>\n",
              "  <tbody>\n",
              "    <tr>\n",
              "      <th>count</th>\n",
              "      <td>1.002104e+06</td>\n",
              "      <td>1.002104e+06</td>\n",
              "      <td>1.002103e+06</td>\n",
              "      <td>1.002103e+06</td>\n",
              "    </tr>\n",
              "    <tr>\n",
              "      <th>mean</th>\n",
              "      <td>5.010515e+05</td>\n",
              "      <td>4.171374e+17</td>\n",
              "      <td>7.025616e+01</td>\n",
              "      <td>5.701011e-03</td>\n",
              "    </tr>\n",
              "    <tr>\n",
              "      <th>std</th>\n",
              "      <td>2.892827e+05</td>\n",
              "      <td>1.308840e+18</td>\n",
              "      <td>1.602039e+02</td>\n",
              "      <td>7.528954e-02</td>\n",
              "    </tr>\n",
              "    <tr>\n",
              "      <th>min</th>\n",
              "      <td>0.000000e+00</td>\n",
              "      <td>6.041621e+10</td>\n",
              "      <td>1.000000e+00</td>\n",
              "      <td>0.000000e+00</td>\n",
              "    </tr>\n",
              "    <tr>\n",
              "      <th>25%</th>\n",
              "      <td>2.505258e+05</td>\n",
              "      <td>1.800000e+14</td>\n",
              "      <td>9.640000e+00</td>\n",
              "      <td>0.000000e+00</td>\n",
              "    </tr>\n",
              "    <tr>\n",
              "      <th>50%</th>\n",
              "      <td>5.010515e+05</td>\n",
              "      <td>3.520000e+15</td>\n",
              "      <td>4.742000e+01</td>\n",
              "      <td>0.000000e+00</td>\n",
              "    </tr>\n",
              "    <tr>\n",
              "      <th>75%</th>\n",
              "      <td>7.515772e+05</td>\n",
              "      <td>4.640000e+15</td>\n",
              "      <td>8.304000e+01</td>\n",
              "      <td>0.000000e+00</td>\n",
              "    </tr>\n",
              "    <tr>\n",
              "      <th>max</th>\n",
              "      <td>1.002103e+06</td>\n",
              "      <td>4.990000e+18</td>\n",
              "      <td>2.894890e+04</td>\n",
              "      <td>1.000000e+00</td>\n",
              "    </tr>\n",
              "  </tbody>\n",
              "</table>\n",
              "</div>"
            ],
            "text/plain": [
              "                 ID   Card Number        Amount      is_fraud\n",
              "count  1.002104e+06  1.002104e+06  1.002103e+06  1.002103e+06\n",
              "mean   5.010515e+05  4.171374e+17  7.025616e+01  5.701011e-03\n",
              "std    2.892827e+05  1.308840e+18  1.602039e+02  7.528954e-02\n",
              "min    0.000000e+00  6.041621e+10  1.000000e+00  0.000000e+00\n",
              "25%    2.505258e+05  1.800000e+14  9.640000e+00  0.000000e+00\n",
              "50%    5.010515e+05  3.520000e+15  4.742000e+01  0.000000e+00\n",
              "75%    7.515772e+05  4.640000e+15  8.304000e+01  0.000000e+00\n",
              "max    1.002103e+06  4.990000e+18  2.894890e+04  1.000000e+00"
            ]
          },
          "execution_count": 5,
          "metadata": {},
          "output_type": "execute_result"
        }
      ],
      "source": [
        "df.describe()"
      ]
    },
    {
      "cell_type": "markdown",
      "metadata": {
        "id": "uBLoQLoVuDVe"
      },
      "source": [
        "# **Data Preprocessing**"
      ]
    },
    {
      "cell_type": "markdown",
      "metadata": {
        "id": "lvJ_IQC4uRpZ"
      },
      "source": [
        "## **Handling missing values**"
      ]
    },
    {
      "cell_type": "code",
      "execution_count": 6,
      "metadata": {
        "colab": {
          "base_uri": "https://localhost:8080/"
        },
        "id": "fTeGL0xDnDY4",
        "outputId": "ba931334-e46c-4dda-c006-1eb3e8f23bbd"
      },
      "outputs": [
        {
          "name": "stdout",
          "output_type": "stream",
          "text": [
            "ID             0\n",
            "Time           0\n",
            "Card Number    0\n",
            "merchant       0\n",
            "category       0\n",
            "Amount         1\n",
            "firstName      1\n",
            "lastName       1\n",
            "trans_num      1\n",
            "is_fraud       1\n",
            "dtype: int64\n"
          ]
        }
      ],
      "source": [
        "print (df.isnull().sum())"
      ]
    },
    {
      "cell_type": "code",
      "execution_count": 3,
      "metadata": {
        "id": "7goCJPhenylf"
      },
      "outputs": [
        {
          "name": "stderr",
          "output_type": "stream",
          "text": [
            "C:\\Users\\AhmedSiam\\AppData\\Local\\Temp\\ipykernel_7036\\1142244022.py:2: FutureWarning: A value is trying to be set on a copy of a DataFrame or Series through chained assignment using an inplace method.\n",
            "The behavior will change in pandas 3.0. This inplace method will never work because the intermediate object on which we are setting values always behaves as a copy.\n",
            "\n",
            "For example, when doing 'df[col].method(value, inplace=True)', try using 'df.method({col: value}, inplace=True)' or df[col] = df[col].method(value) instead, to perform the operation inplace on the original object.\n",
            "\n",
            "\n",
            "  df['is_fraud'].fillna(df['is_fraud'].mean(), inplace=True)\n",
            "C:\\Users\\AhmedSiam\\AppData\\Local\\Temp\\ipykernel_7036\\1142244022.py:3: FutureWarning: A value is trying to be set on a copy of a DataFrame or Series through chained assignment using an inplace method.\n",
            "The behavior will change in pandas 3.0. This inplace method will never work because the intermediate object on which we are setting values always behaves as a copy.\n",
            "\n",
            "For example, when doing 'df[col].method(value, inplace=True)', try using 'df.method({col: value}, inplace=True)' or df[col] = df[col].method(value) instead, to perform the operation inplace on the original object.\n",
            "\n",
            "\n",
            "  df['Amount'].fillna(df['Amount'].mean(), inplace=True)\n"
          ]
        }
      ],
      "source": [
        "#find null in Amount col and replace it with mean\n",
        "df['Amount'].fillna(df['Amount'].mean(), inplace=True)"
      ]
    },
    {
      "cell_type": "code",
      "execution_count": 3,
      "metadata": {
        "id": "0hUbori5pViB"
      },
      "outputs": [],
      "source": [
        "#drop row if first name /last name/trans_num is null 'Not important'\n",
        "\n",
        "df = df.dropna(subset=['firstName', 'lastName', 'trans_num', 'is_fraud'])\n"
      ]
    },
    {
      "cell_type": "code",
      "execution_count": 9,
      "metadata": {
        "colab": {
          "base_uri": "https://localhost:8080/"
        },
        "id": "fl-p1j8joG_e",
        "outputId": "3eea3a3a-b216-4153-b884-3dae725381bb"
      },
      "outputs": [
        {
          "name": "stdout",
          "output_type": "stream",
          "text": [
            "ID             0\n",
            "Time           0\n",
            "Card Number    0\n",
            "merchant       0\n",
            "category       0\n",
            "Amount         0\n",
            "firstName      0\n",
            "lastName       0\n",
            "trans_num      0\n",
            "is_fraud       0\n",
            "dtype: int64\n"
          ]
        }
      ],
      "source": [
        "print (df.isnull().sum())"
      ]
    },
    {
      "cell_type": "markdown",
      "metadata": {
        "id": "NQbyN9pfuuyE"
      },
      "source": [
        "## **Handling Duplicates**"
      ]
    },
    {
      "cell_type": "code",
      "execution_count": 10,
      "metadata": {
        "colab": {
          "base_uri": "https://localhost:8080/"
        },
        "id": "ubDVsuq8aNRn",
        "outputId": "7847685a-246e-4e6c-ed09-e4b04931634c"
      },
      "outputs": [
        {
          "data": {
            "text/plain": [
              "0"
            ]
          },
          "execution_count": 10,
          "metadata": {},
          "output_type": "execute_result"
        }
      ],
      "source": [
        "sum(df.duplicated()) #no duplicate to handle it"
      ]
    },
    {
      "cell_type": "markdown",
      "metadata": {
        "id": "hwnxMNqmu-Sx"
      },
      "source": [
        "## **Handling Wrong Format**"
      ]
    },
    {
      "cell_type": "code",
      "execution_count": 11,
      "metadata": {
        "colab": {
          "base_uri": "https://localhost:8080/"
        },
        "id": "GP5TWFjdvj28",
        "outputId": "563a004f-e4f8-4a9c-f42c-49eeb606b10e"
      },
      "outputs": [
        {
          "data": {
            "text/plain": [
              "str"
            ]
          },
          "execution_count": 11,
          "metadata": {},
          "output_type": "execute_result"
        }
      ],
      "source": [
        "type(df['Time'].iloc[0])"
      ]
    },
    {
      "cell_type": "code",
      "execution_count": 12,
      "metadata": {
        "id": "eJ2XSFHihP40"
      },
      "outputs": [],
      "source": [
        "df['Time']=pd.to_datetime(df['Time'])"
      ]
    },
    {
      "cell_type": "code",
      "execution_count": 13,
      "metadata": {
        "colab": {
          "base_uri": "https://localhost:8080/"
        },
        "id": "fF32RFkKhlgT",
        "outputId": "e3688d33-dbdc-4a9a-b52f-ffe3fb1e8d43"
      },
      "outputs": [
        {
          "data": {
            "text/plain": [
              "pandas._libs.tslibs.timestamps.Timestamp"
            ]
          },
          "execution_count": 13,
          "metadata": {},
          "output_type": "execute_result"
        }
      ],
      "source": [
        "type(df['Time'].iloc[0])"
      ]
    },
    {
      "cell_type": "code",
      "execution_count": 14,
      "metadata": {
        "colab": {
          "base_uri": "https://localhost:8080/"
        },
        "id": "OOdKomwghvi-",
        "outputId": "672616f7-36b2-40b2-a269-ebbcbcdcabc3"
      },
      "outputs": [
        {
          "name": "stdout",
          "output_type": "stream",
          "text": [
            "0         2019-01-01 00:00:00\n",
            "1         2019-01-01 00:00:00\n",
            "2         2019-01-01 00:00:00\n",
            "3         2019-01-01 00:01:00\n",
            "4         2019-01-01 00:03:00\n",
            "                  ...        \n",
            "1002098   2020-02-15 16:40:00\n",
            "1002099   2020-02-15 16:40:00\n",
            "1002100   2020-02-15 16:40:00\n",
            "1002101   2020-02-15 16:42:00\n",
            "1002102   2020-02-15 16:42:00\n",
            "Name: Time, Length: 1002103, dtype: datetime64[ns]\n"
          ]
        }
      ],
      "source": [
        "print(df['Time'])"
      ]
    }
  ],
  "metadata": {
    "colab": {
      "authorship_tag": "ABX9TyN3QPm91lNAr39gK6zHSyAR",
      "collapsed_sections": [
        "lvJ_IQC4uRpZ",
        "hwnxMNqmu-Sx"
      ],
      "include_colab_link": true,
      "provenance": [],
      "toc_visible": true
    },
    "kernelspec": {
      "display_name": "Python 3",
      "name": "python3"
    },
    "language_info": {
      "codemirror_mode": {
        "name": "ipython",
        "version": 3
      },
      "file_extension": ".py",
      "mimetype": "text/x-python",
      "name": "python",
      "nbconvert_exporter": "python",
      "pygments_lexer": "ipython3",
      "version": "3.12.3"
    }
  },
  "nbformat": 4,
  "nbformat_minor": 0
}
